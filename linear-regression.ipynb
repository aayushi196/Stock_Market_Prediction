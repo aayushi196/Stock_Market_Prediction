{
 "cells": [
  {
   "cell_type": "code",
   "execution_count": 51,
   "metadata": {},
   "outputs": [
    {
     "name": "stdout",
     "output_type": "stream",
     "text": [
      "fundamentals.csv\n",
      "prices.csv\n",
      "prices-split-adjusted.csv\n",
      "securities.csv\n",
      "\n"
     ]
    }
   ],
   "source": [
    "import numpy as np # linear algebra\n",
    "import pandas as pd # data processing, CSV file I/O (e.g. pd.read_csv)\n",
    "import matplotlib.pyplot as plt\n",
    "from matplotlib import style\n",
    "import datetime as dt1\n",
    "from datetime import datetime as dt\n",
    "\n",
    "\n",
    "\n",
    "# Input data files are available in the \"../input/\" directory.\n",
    "# For example, running this (by clicking run or pressing Shift+Enter) will list the files in the input directory\n",
    "\n",
    "from subprocess import check_output\n",
    "print(check_output([\"ls\", \"/home/harshit/Downloads/project\"]).decode(\"utf8\"))\n"
   ]
  },
  {
   "cell_type": "code",
   "execution_count": 52,
   "metadata": {},
   "outputs": [
    {
     "name": "stdout",
     "output_type": "stream",
     "text": [
      "              date symbol       open      close        low       high  \\\n",
      "848874  2016-12-23   CSCO  30.540001  30.530001  30.400000  30.600000   \n",
      "849374  2016-12-27   CSCO  30.639999  30.680000  30.600000  30.820000   \n",
      "849874  2016-12-28   CSCO  30.700001  30.420000  30.350000  30.770000   \n",
      "850374  2016-12-29   CSCO  30.370001  30.459999  30.330000  30.549999   \n",
      "850874  2016-12-30   CSCO  30.559999  30.219999  30.129999  30.600000   \n",
      "\n",
      "            volume  \n",
      "848874   9167500.0  \n",
      "849374  14175500.0  \n",
      "849874  12022200.0  \n",
      "850374  10995600.0  \n",
      "850874  20190000.0  \n"
     ]
    }
   ],
   "source": [
    "df=pd.read_csv('/home/harshit/Downloads/project/prices.csv')\n",
    "df.tail()\n",
    "df=df.loc[df['symbol'] == 'CSCO']\n",
    "print(df.tail())"
   ]
  },
  {
   "cell_type": "code",
   "execution_count": 53,
   "metadata": {},
   "outputs": [],
   "source": [
    "from sklearn import preprocessing, cross_validation\n",
    "from sklearn.linear_model import LinearRegression\n",
    "import math"
   ]
  },
  {
   "cell_type": "code",
   "execution_count": 54,
   "metadata": {},
   "outputs": [
    {
     "name": "stdout",
     "output_type": "stream",
     "text": [
      "18\n",
      "            date symbol       open      close        low       high  \\\n",
      "356   2010-01-04   CSCO  24.110001  24.690001  24.010000  24.840000   \n",
      "824   2010-01-05   CSCO  24.600000  24.580000  24.379999  24.730000   \n",
      "1292  2010-01-06   CSCO  24.540001  24.420000  24.340000  24.740000   \n",
      "1760  2010-01-07   CSCO  24.299999  24.530001  24.170000  24.570000   \n",
      "2228  2010-01-08   CSCO  24.379999  24.660000  24.250000  24.700001   \n",
      "\n",
      "          volume      label  \n",
      "356   59853700.0  22.469999  \n",
      "824   45124500.0  22.730000  \n",
      "1292  35715700.0  23.020000  \n",
      "1760  31531200.0  23.070000  \n",
      "2228  39115900.0  23.160000  \n"
     ]
    }
   ],
   "source": [
    "forecast_col = 'close'\n",
    "df.fillna(value=-99999, inplace=True)\n",
    "forecast_out = int(math.ceil(0.01 * len(df)))\n",
    "print(forecast_out)\n",
    "df['label'] = df[forecast_col].shift(-forecast_out)\n",
    "print(df.head())"
   ]
  },
  {
   "cell_type": "code",
   "execution_count": 55,
   "metadata": {},
   "outputs": [],
   "source": [
    "X=np.array(df.drop(['label','symbol','date'], axis=1))\n",
    "#print(X)\n",
    "X = preprocessing.scale(X)\n",
    "#print(X)\n",
    "X_lately = X[-forecast_out:]\n",
    "#print(X_lately)\n",
    "X = X[:-forecast_out]\n",
    "df.dropna(inplace=True)\n",
    "y = np.array(df['label'])\n",
    "X_train, X_test, y_train, y_test = cross_validation.train_test_split(X, y, test_size=0.2)"
   ]
  },
  {
   "cell_type": "code",
   "execution_count": 56,
   "metadata": {},
   "outputs": [
    {
     "name": "stdout",
     "output_type": "stream",
     "text": [
      "0.8926104323952438\n"
     ]
    }
   ],
   "source": [
    "clf = LinearRegression(n_jobs=-1)\n",
    "clf.fit(X_train, y_train)\n",
    "confidence = clf.score(X_test, y_test)\n",
    "print(confidence)\n"
   ]
  },
  {
   "cell_type": "code",
   "execution_count": 57,
   "metadata": {},
   "outputs": [
    {
     "name": "stdout",
     "output_type": "stream",
     "text": [
      "[29.117496   29.6676668  29.76985094 29.77244008 29.85575985 30.24781251\n",
      " 30.30350709 30.32315995 30.21517348 30.44393592 30.36961952 30.21676379\n",
      " 30.16788786 30.26245382 30.38355218 30.27527075 30.17959603 30.07124351]\n",
      "2016-12-05\n",
      "                    date symbol  open  close  low  high  volume  label  \\\n",
      "2016-12-19 00:00:00  NaN    NaN   NaN    NaN  NaN   NaN     NaN    NaN   \n",
      "2016-12-20 00:00:00  NaN    NaN   NaN    NaN  NaN   NaN     NaN    NaN   \n",
      "2016-12-21 00:00:00  NaN    NaN   NaN    NaN  NaN   NaN     NaN    NaN   \n",
      "2016-12-22 00:00:00  NaN    NaN   NaN    NaN  NaN   NaN     NaN    NaN   \n",
      "2016-12-23 00:00:00  NaN    NaN   NaN    NaN  NaN   NaN     NaN    NaN   \n",
      "\n",
      "                      Forecast  \n",
      "2016-12-19 00:00:00  30.262454  \n",
      "2016-12-20 00:00:00  30.383552  \n",
      "2016-12-21 00:00:00  30.275271  \n",
      "2016-12-22 00:00:00  30.179596  \n",
      "2016-12-23 00:00:00  30.071244  \n"
     ]
    },
    {
     "data": {
      "image/png": "[encoded data removed]",
      "text/plain": [
       "<Figure size 432x288 with 1 Axes>"
      ]
     },
     "metadata": {},
     "output_type": "display_data"
    }
   ],
   "source": [
    "forecast_set = clf.predict(X_lately)\n",
    "print(forecast_set)\n",
    "df['Forecast'] = np.nan\n",
    "last_date = df.iloc[-1].date\n",
    "print(last_date)\n",
    "last_date=dt.strptime(str(last_date), '%Y-%m-%d').timestamp()\n",
    "last_unix = last_date\n",
    "one_day = 86400\n",
    "next_unix = last_unix + one_day\n",
    "\n",
    "for i in forecast_set:\n",
    "    next_date = dt.fromtimestamp(next_unix)\n",
    "    next_unix += 86400\n",
    "    df.loc[next_date] = [np.nan for _ in range(len(df.columns)-1)]+[i]\n",
    "print(df.tail())\n",
    "df['close'].plot()\n",
    "df['Forecast'].plot()\n",
    "#plt.legend(loc=40)\n",
    "plt.xlabel('Date')\n",
    "plt.ylabel('Price')\n",
    "plt.show()"
   ]
  },
  {
   "cell_type": "code",
   "execution_count": null,
   "metadata": {},
   "outputs": [],
   "source": []
  },
  {
   "cell_type": "code",
   "execution_count": null,
   "metadata": {},
   "outputs": [],
   "source": []
  },
  {
   "cell_type": "code",
   "execution_count": null,
   "metadata": {},
   "outputs": [],
   "source": []
  }
 ],
 "metadata": {
  "kernelspec": {
   "display_name": "Python 3",
   "language": "python",
   "name": "python3"
  },
  "language_info": {
   "codemirror_mode": {
    "name": "ipython",
    "version": 3
   },
   "file_extension": ".py",
   "mimetype": "text/x-python",
   "name": "python",
   "nbconvert_exporter": "python",
   "pygments_lexer": "ipython3",
   "version": "3.5.2"
  }
 },
 "nbformat": 4,
 "nbformat_minor": 2
}

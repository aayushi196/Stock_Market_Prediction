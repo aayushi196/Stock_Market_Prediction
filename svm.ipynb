{
 "cells": [
  {
   "cell_type": "code",
   "execution_count": 17,
   "metadata": {},
   "outputs": [
    {
     "name": "stdout",
     "output_type": "stream",
     "text": [
      "['fundamentals.csv', 'securities.csv', 'prices-split-adjusted.csv', 'prices.csv']\n"
     ]
    }
   ],
   "source": [
    "import numpy as np # linear algebra\n",
    "import pandas as pd # data processing, CSV file I/O (e.g. pd.read_csv)\n",
    "\n",
    "# Input data files are available in the \"../input/\" directory.\n",
    "# For example, running this (by clicking run or pressing Shift+Enter) will list the files in the input directory\n",
    "\n",
    "import os\n",
    "print(os.listdir(\"/home/harshit/Downloads/project\"))"
   ]
  },
  {
   "cell_type": "code",
   "execution_count": 18,
   "metadata": {},
   "outputs": [],
   "source": [
    "import numpy as np\n",
    "import pandas as pd\n",
    "from sklearn.model_selection import train_test_split\n",
    "from sklearn import svm,preprocessing \n",
    "from sklearn.metrics import classification_report\n",
    "stock_prices = pd.read_csv(r'/home/harshit/Downloads/project/prices.csv')\n",
    "symbols = list(set(stock_prices['symbol']))"
   ]
  },
  {
   "cell_type": "code",
   "execution_count": 19,
   "metadata": {},
   "outputs": [],
   "source": [
    "msft_prices = stock_prices[stock_prices['symbol']== 'MSFT']\n",
    "msft_prices = msft_prices[['date','open','low','high','close','volume']]\n",
    "msft_prices.to_csv('msft_prices.csv',sep='\\t')\n",
    "msft_dates = [pd.Timestamp(date) for date in msft_prices['date']]"
   ]
  },
  {
   "cell_type": "code",
   "execution_count": 20,
   "metadata": {},
   "outputs": [
    {
     "data": {
      "image/png": "[encoded data removed]",
      "text/plain": [
       "<Figure size 432x288 with 1 Axes>"
      ]
     },
     "metadata": {},
     "output_type": "display_data"
    }
   ],
   "source": [
    "msft_close = np.array(msft_prices['close'],dtype='float')\n",
    "import matplotlib.pyplot as plt\n",
    "plt.title('MSFT')\n",
    "plt.scatter(msft_dates,msft_close)\n",
    "plt.show()"
   ]
  },
  {
   "cell_type": "code",
   "execution_count": 21,
   "metadata": {},
   "outputs": [],
   "source": [
    "msft_prices = msft_prices.set_index('date')"
   ]
  },
  {
   "cell_type": "code",
   "execution_count": 22,
   "metadata": {},
   "outputs": [],
   "source": [
    "def get_x_and_y(price,window_length=7,predict_day_length=1):\n",
    "    '''get train and test set\n",
    "    every time get window from price and\n",
    "    '''\n",
    "    m = len(price.iloc[0])\n",
    "    n = len(price) - window_length\n",
    "    m = window_length * m\n",
    "\n",
    "    x = np.ones((n,m))\n",
    "    y = np.ones((n,1))\n",
    "\n",
    "    for i in range(len(price)-window_length):\n",
    "        ans = [list(price.iloc[j] for j in range(i,i+window_length))]\n",
    "        ans = np.array(ans).flatten()\n",
    "        x[i] = ans\n",
    "        y[i] = 1 if price.close[i+window_length+predict_day_length-1] - price.close[i+window_length-1] >0 else 0\n",
    "    return [x,y]\n"
   ]
  },
  {
   "cell_type": "code",
   "execution_count": 23,
   "metadata": {},
   "outputs": [],
   "source": [
    "def train_and_test(price,window_length,accurarys,reports):\n",
    "    x,y = get_x_and_y(msft_prices,window_length=window_length)\n",
    "    y = y.flatten()\n",
    "    scaler = preprocessing.StandardScaler()\n",
    "    scaler.fit_transform(x)\n",
    "    x_train,x_test,y_train,y_test = train_test_split(x,y,test_size=0.25,random_state=233)\n",
    "    for kernel_arg in ['rbf','poly','linear']:\n",
    "        clf = svm.SVC(kernel=kernel_arg,max_iter=5000)\n",
    "        clf.fit(x_train,y_train)\n",
    "        y_predict = clf.predict(x_test)\n",
    "\n",
    "        accurary = clf.score(x_test,y_test)\n",
    "        report = classification_report(y_test,y_predict,target_names = ['drop','up'])\n",
    "        if window_length in accurarys:\n",
    "            accurarys[window_length].append(accurary)\n",
    "            reports[window_length].append(report)\n",
    "        else: \n",
    "            accurarys[window_length] = [accurary]\n",
    "            reports[window_length] = [report]\n",
    "        print('The Accurary of %s : %f'%(kernel_arg,clf.score(x_test,y_test)))\n",
    "        print(report)\n"
   ]
  },
  {
   "cell_type": "code",
   "execution_count": 25,
   "metadata": {},
   "outputs": [
    {
     "name": "stdout",
     "output_type": "stream",
     "text": [
      "('window_length:', 20)\n",
      "The Accurary of rbf : 0.465596\n",
      "             precision    recall  f1-score   support\n",
      "\n",
      "       drop       0.47      1.00      0.64       203\n",
      "         up       0.00      0.00      0.00       233\n",
      "\n",
      "avg / total       0.22      0.47      0.30       436\n",
      "\n",
      "The Accurary of poly : 0.534404\n",
      "             precision    recall  f1-score   support\n",
      "\n",
      "       drop       0.00      0.00      0.00       203\n",
      "         up       0.53      1.00      0.70       233\n",
      "\n",
      "avg / total       0.29      0.53      0.37       436\n",
      "\n",
      "The Accurary of linear : 0.525229\n",
      "             precision    recall  f1-score   support\n",
      "\n",
      "       drop       0.41      0.04      0.08       203\n",
      "         up       0.53      0.94      0.68       233\n",
      "\n",
      "avg / total       0.47      0.53      0.40       436\n",
      "\n",
      "('window_length:', 70)\n",
      "The Accurary of rbf : 0.486998\n",
      "             precision    recall  f1-score   support\n",
      "\n",
      "       drop       0.49      1.00      0.66       206\n",
      "         up       0.00      0.00      0.00       217\n",
      "\n",
      "avg / total       0.24      0.49      0.32       423\n",
      "\n",
      "The Accurary of poly : 0.513002\n",
      "             precision    recall  f1-score   support\n",
      "\n",
      "       drop       0.00      0.00      0.00       206\n",
      "         up       0.51      1.00      0.68       217\n",
      "\n",
      "avg / total       0.26      0.51      0.35       423\n",
      "\n",
      "The Accurary of linear : 0.489362\n",
      "             precision    recall  f1-score   support\n",
      "\n",
      "       drop       0.46      0.32      0.38       206\n",
      "         up       0.50      0.65      0.57       217\n",
      "\n",
      "avg / total       0.48      0.49      0.48       423\n",
      "\n",
      "('window_length:', 120)\n",
      "The Accurary of rbf : 0.486618\n",
      "             precision    recall  f1-score   support\n",
      "\n",
      "       drop       0.49      1.00      0.65       200\n",
      "         up       0.00      0.00      0.00       211\n",
      "\n",
      "avg / total       0.24      0.49      0.32       411\n",
      "\n",
      "The Accurary of poly : 0.513382\n",
      "             precision    recall  f1-score   support\n",
      "\n",
      "       drop       0.00      0.00      0.00       200\n",
      "         up       0.51      1.00      0.68       211\n",
      "\n",
      "avg / total       0.26      0.51      0.35       411\n",
      "\n",
      "The Accurary of linear : 0.479319\n",
      "             precision    recall  f1-score   support\n",
      "\n",
      "       drop       0.45      0.35      0.40       200\n",
      "         up       0.49      0.60      0.54       211\n",
      "\n",
      "avg / total       0.47      0.48      0.47       411\n",
      "\n",
      "('window_length:', 170)\n",
      "The Accurary of rbf : 0.487437\n",
      "             precision    recall  f1-score   support\n",
      "\n",
      "       drop       0.49      1.00      0.66       194\n",
      "         up       0.00      0.00      0.00       204\n",
      "\n",
      "avg / total       0.24      0.49      0.32       398\n",
      "\n",
      "The Accurary of poly : 0.512563\n",
      "             precision    recall  f1-score   support\n",
      "\n",
      "       drop       0.00      0.00      0.00       194\n",
      "         up       0.51      1.00      0.68       204\n",
      "\n",
      "avg / total       0.26      0.51      0.35       398\n",
      "\n",
      "The Accurary of linear : 0.494975\n",
      "             precision    recall  f1-score   support\n",
      "\n",
      "       drop       0.48      0.37      0.42       194\n",
      "         up       0.51      0.61      0.55       204\n",
      "\n",
      "avg / total       0.49      0.49      0.49       398\n",
      "\n",
      "('window_length:', 220)\n",
      "The Accurary of rbf : 0.458549\n",
      "             precision    recall  f1-score   support\n",
      "\n",
      "       drop       0.46      1.00      0.63       177\n",
      "         up       0.00      0.00      0.00       209\n",
      "\n",
      "avg / total       0.21      0.46      0.29       386\n",
      "\n",
      "The Accurary of poly : 0.541451\n",
      "             precision    recall  f1-score   support\n",
      "\n",
      "       drop       0.00      0.00      0.00       177\n",
      "         up       0.54      1.00      0.70       209\n",
      "\n",
      "avg / total       0.29      0.54      0.38       386\n",
      "\n",
      "The Accurary of linear : 0.554404\n",
      "             precision    recall  f1-score   support\n",
      "\n",
      "       drop       0.51      0.56      0.54       177\n",
      "         up       0.60      0.55      0.57       209\n",
      "\n",
      "avg / total       0.56      0.55      0.56       386\n",
      "\n"
     ]
    }
   ],
   "source": [
    "window_lengths = [20,70,120,170,220]\n",
    "accurarys = {}\n",
    "reports ={}\n",
    "\n",
    "for l in window_lengths:\n",
    "    print('window_length:',l)\n",
    "    train_and_test(msft_prices,l,accurarys,reports)\n"
   ]
  },
  {
   "cell_type": "code",
   "execution_count": null,
   "metadata": {},
   "outputs": [],
   "source": []
  }
 ],
 "metadata": {
  "kernelspec": {
   "display_name": "Python 2",
   "language": "python",
   "name": "python2"
  },
  "language_info": {
   "codemirror_mode": {
    "name": "ipython",
    "version": 2
   },
   "file_extension": ".py",
   "mimetype": "text/x-python",
   "name": "python",
   "nbconvert_exporter": "python",
   "pygments_lexer": "ipython2",
   "version": "2.7.12"
  }
 },
 "nbformat": 4,
 "nbformat_minor": 2
}
